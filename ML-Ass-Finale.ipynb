{
 "cells": [
  {
   "cell_type": "markdown",
   "metadata": {},
   "source": [
    "# GUC NETW 1003 Kmeans Assginmnet "
   ]
  },
  {
   "cell_type": "markdown",
   "metadata": {},
   "source": [
    "Objective: exercise is to learn how to use build and use  kmeans clustering algortrithm    \n",
    "\n",
    "At the end of this lab you will be able to\n",
    "> 1. Build and run a K-means algorithm.\n",
    "> 2. Know how to evalute K-means Algorithm \n",
    "> 2. Understand the effect of the parmeters ont he perfromance of the algorithm .\n",
    "> 3. Understand the effect of distance."
   ]
  },
  {
   "cell_type": "markdown",
   "metadata": {},
   "source": [
    "## 1. Wirte K means function "
   ]
  },
  {
   "cell_type": "markdown",
   "metadata": {},
   "source": [
    "import required libraries "
   ]
  },
  {
   "cell_type": "code",
   "execution_count": null,
   "metadata": {
    "ExecuteTime": {
     "end_time": "2024-02-28T20:49:38.577416600Z",
     "start_time": "2024-02-28T20:49:38.553076400Z"
    }
   },
   "outputs": [],
   "source": [
    "import numpy as np, pandas as pd, seaborn as sns, matplotlib.pyplot as plt\n",
    "from sklearn.datasets import make_blobs\n",
    "from sklearn.datasets import make_moons"
   ]
  },
  {
   "cell_type": "markdown",
   "metadata": {},
   "source": [
    "> ### 1.1. Code for the distance function "
   ]
  },
  {
   "attachments": {},
   "cell_type": "markdown",
   "metadata": {},
   "source": [
    "write a function to calculate the distance between a set of cluster centroids and all the data points \n",
    "\n",
    "Cluster_Distances = GUC_Distance ( Cluster_Centroids, Data_points, Distance_Type) \n",
    "* The function shoud be able to handel data points with any number of features and any number of points \n",
    "* The function should be able to handle any K number of cluster centroids \n",
    "* To inrease speed do that in matrix format using numpy\n",
    "* This should produce a matrix with rows equal to data points columns equal K \n",
    "* You should be able to calculate different types of Distance. In this assginmnet you are required to implement the following two \n",
    "    - Ecluidian distance\n",
    "    - Pearson correlation distance\n"
   ]
  },
  {
   "cell_type": "code",
   "execution_count": null,
   "metadata": {
    "ExecuteTime": {
     "end_time": "2024-02-28T20:52:00.567461600Z",
     "start_time": "2024-02-28T20:52:00.526818600Z"
    },
    "collapsed": false,
    "jupyter": {
     "outputs_hidden": false
    }
   },
   "outputs": [],
   "source": [
    "def GUC_Distance(Cluster_Centroids, Data_points, Distance_Type):\n",
    "\n",
    "    num_clusters = Cluster_Centroids.shape[0]\n",
    "    num_points = Data_points.shape[0]\n",
    "\n",
    "    Cluster_Distance = np.zeros((num_points, num_clusters))\n",
    "\n",
    "    if Distance_Type == 'euclidean':\n",
    "        for i in range(num_clusters):\n",
    "            centroid = Cluster_Centroids.values[i]\n",
    "            distances = np.sqrt(np.sum((Data_points - centroid)**2, axis=1))\n",
    "            Cluster_Distance[:, i] = distances\n",
    "\n",
    "    elif Distance_Type == 'pearson':\n",
    "            mean_points = np.mean(Data_points, axis=0)\n",
    "            mean_centroids = np.mean(Cluster_Centroids, axis=0)\n",
    "            new_points = Data_points - mean_points\n",
    "            for i in range(num_clusters):\n",
    "                centroid = Cluster_Centroids.values[i]\n",
    "                new_centroid = centroid - mean_centroids\n",
    "                numerator = np.sum(new_points * new_centroid, axis=1)\n",
    "                denominator_points = np.sqrt(np.sum(new_points ** 2, axis=1))\n",
    "                denominator_centroid = np.sqrt(np.sum(new_centroid ** 2))\n",
    "                denominator = denominator_points * denominator_centroid\n",
    "                denominator[denominator == 0] = np.inf\n",
    "                Cluster_Distance[:, i] = 1 - (numerator / denominator)\n",
    "\n",
    "    return Cluster_Distance"
   ]
  },
  {
   "cell_type": "markdown",
   "metadata": {},
   "source": [
    "> ### 1.2. Code for K means function "
   ]
  },
  {
   "cell_type": "raw",
   "metadata": {},
   "source": [
    "Create the intial cluster heads \n",
    " 1. For each data colom find the data ranges \n",
    " 2. randomly generate a number of cluster heads equal to K (th number of clusters)   "
   ]
  },
  {
   "attachments": {},
   "cell_type": "markdown",
   "metadata": {},
   "source": [
    "> Loop until a stopping condition \n",
    "\n",
    "> > in the loop do the following \n",
    "> > 1. Cluster Assginmnet \n",
    "> > > * Use the GUC_Distance to calculate between each cluster head and all the points \n",
    "> > > * Find the value and index of the minimum distance  for each row. \n",
    "> > > * for each point in the row use the index of the minmum distance to represent the cluster Centroid that this point will belong to.\n",
    "> > > * Calculate and record the mean square distance for each cluster  \n",
    "> > > * Use the mean square distances to calculate a stopping condition (e.g the sum of mean distances)\n",
    "> > 2. Updtate Centroids  \n",
    "> > > * Update the value for the cluster heads by calculating the mean value for the points in each cluster \n",
    "> > >  * Calculate the Cluster Metric (Distortion Function)\n",
    "> > > > a number indicating the how good the clusters are . An example cluster metric is the  (sum of squared error between each point and its cluster center)"
   ]
  },
  {
   "cell_type": "code",
   "execution_count": null,
   "metadata": {
    "ExecuteTime": {
     "end_time": "2024-02-28T20:52:07.609060600Z",
     "start_time": "2024-02-28T20:52:07.604783800Z"
    }
   },
   "outputs": [],
   "source": [
    "def GUC_Kmean(Data_points, Number_of_Clusters, Distance_Type):\n",
    "\n",
    "    data_ranges = np.ptp(Data_points.values, axis=0)\n",
    "    cluster_heads = np.random.rand(Number_of_Clusters, Data_points.shape[1]) * data_ranges\n",
    "    cluster_heads_df = pd.DataFrame(cluster_heads, columns=Data_points.columns)\n",
    "    km = []\n",
    "\n",
    "    # Stopping condition parameters\n",
    "    min_distance_change = 0.0001\n",
    "    prev_mean_square_distances = np.inf\n",
    "    prev_sum_of_distances = np.inf\n",
    "\n",
    "    Cluster_Metric =0\n",
    "\n",
    "    while True:\n",
    "        # Cluster Assignment\n",
    "        Final_Cluster_Distance = GUC_Distance(cluster_heads_df, Data_points, Distance_Type)\n",
    "        cluster_assignments = np.argmin(Final_Cluster_Distance, axis=1)\n",
    "\n",
    "        # Mean square distance for each cluster\n",
    "        sum_of_distances=0\n",
    "        mean_square_distances = np.zeros(Number_of_Clusters)\n",
    "        for i in range(Number_of_Clusters):\n",
    "            cluster_points= Data_points.iloc[cluster_assignments==i]\n",
    "            mean_square_distances[i]= np.mean(np.sum((cluster_points-cluster_heads[i])**2, axis=1))\n",
    "            sum_of_distances+=np.sum((cluster_points - cluster_heads[i])**2, axis=0)\n",
    "\n",
    "\n",
    "        # Stopping condition\n",
    "\n",
    "        if np.sum(mean_square_distances) < min_distance_change or np.allclose(mean_square_distances, prev_mean_square_distances):\n",
    "            break\n",
    "        eps= 0.0001\n",
    "        if (abs(sum_of_distances - prev_sum_of_distances) < eps).any():\n",
    "            break\n",
    "        prev_mean_square_distances = mean_square_distances.copy()\n",
    "        prev_sum_of_distances = sum_of_distances\n",
    "\n",
    "        # Update Centroids\n",
    "        for i in range(Number_of_Clusters):\n",
    "            cluster_points = Data_points.iloc[cluster_assignments == i]\n",
    "            if len(cluster_points) > 0:\n",
    "                cluster_heads[i] = np.mean(cluster_points, axis=0)\n",
    "\n",
    "        km.append((cluster_assignments, cluster_heads))\n",
    "\n",
    "    # Calculate Cluster Metric (Distortion Function)\n",
    "    Cluster_Metric += np.sum(sum_of_distances)\n",
    "    display_clusters(Data_points, km,Number_of_Clusters)\n",
    "\n",
    "    return [Final_Cluster_Distance, Cluster_Metric]"
   ]
  },
  {
   "cell_type": "markdown",
   "metadata": {},
   "source": [
    "## 2. Display Results "
   ]
  },
  {
   "cell_type": "markdown",
   "metadata": {},
   "source": [
    "* below is a an example fuction that displayes Clusters in 2D \n",
    "\n",
    "* You need to change the function so that is can display an n dimension data in the form of pairs of subplot 2D figures \n",
    "\n",
    "* The function is a helper function that is originaly be found in \n",
    "https://www.coursera.org/learn/ibm-unsupervised-learning/\n"
   ]
  },
  {
   "cell_type": "code",
   "execution_count": null,
   "metadata": {
    "ExecuteTime": {
     "end_time": "2024-02-28T20:52:10.894193200Z",
     "start_time": "2024-02-28T20:52:10.885775200Z"
    }
   },
   "outputs": [],
   "source": [
    "import numpy as np, pandas as pd, seaborn as sns, matplotlib.pyplot as plt"
   ]
  },
  {
   "cell_type": "markdown",
   "metadata": {},
   "source": [
    "> #### 2.1. helper Display function"
   ]
  },
  {
   "cell_type": "code",
   "execution_count": null,
   "metadata": {
    "ExecuteTime": {
     "end_time": "2024-02-28T20:52:20.359717600Z",
     "start_time": "2024-02-28T20:52:20.311796100Z"
    },
    "collapsed": false,
    "jupyter": {
     "outputs_hidden": false
    }
   },
   "outputs": [],
   "source": [
    "# helper function that allows us to display data in 2 dimensions an highlights the clusters\n",
    "def display_clusters(X, km, num_clusters):\n",
    "    fig, axs = plt.subplots(X.shape[1], X.shape[1], figsize=(30, 30))\n",
    "    color = ['blue', 'red', 'green', 'cyan', 'magenta', 'yellow', 'black', 'brown', 'teal', 'purple']  # List of colors #List of colors\n",
    "    alpha = 0.5 #color obaque\n",
    "    s = 50\n",
    "\n",
    "    for dim_i, dim_1 in enumerate(X.columns):\n",
    "        for dim_j, dim_2 in enumerate(X.columns):\n",
    "            for i in range(num_clusters):\n",
    "                if km and km[-1]:\n",
    "                    assigned_indices = np.where(km[-1][0] == i)[0]\n",
    "                    axs[dim_i, dim_j].scatter(X.iloc[assigned_indices, dim_i], X.iloc[assigned_indices, dim_j],\n",
    "                                              c=color[i], alpha=alpha, s=s, marker='o')\n",
    "                    axs[dim_i, dim_j].scatter(km[-1][1][i, dim_i], km[-1][1][i, dim_j],\n",
    "                                              c=color[i], marker='x', s=100)"
   ]
  },
  {
   "cell_type": "markdown",
   "metadata": {},
   "source": [
    "> #### 2.2. Example 1 : Circular Data Gen and display "
   ]
  },
  {
   "cell_type": "markdown",
   "metadata": {},
   "source": [
    "* below is an example of how to use the funciton \n",
    "  *  prepare the figure size and background \n",
    "   > * this part can be replaced by a number of subplots \n",
    "  \n",
    "  * Produce a data set that represent the x and y o coordinates of a circle \n",
    "   > * this part can be replaced by data that you import froma file \n",
    "  \n",
    "  * Data is displayed \n",
    "   > * to display the data only it is assumed that the number of clusters is zero which is the default of the fuction "
   ]
  },
  {
   "cell_type": "code",
   "execution_count": null,
   "metadata": {
    "ExecuteTime": {
     "end_time": "2024-02-28T18:50:50.143572Z",
     "start_time": "2024-02-28T18:50:50.027995200Z"
    }
   },
   "outputs": [],
   "source": [
    "# prepare the figure sise and background \n",
    "# this part can be replaced by a number of subplots \n",
    "plt.rcParams['figure.figsize'] = [8,8]\n",
    "sns.set_style(\"whitegrid\")\n",
    "sns.set_context(\"talk\")\n",
    "# Produce a data set that represent the x and y o coordinates of a circle \n",
    "# this part can be replaced by data that you import froma file \n",
    "angle = np.linspace(0,2*np.pi,20, endpoint = False)\n",
    "X = np.append([np.cos(angle)],[np.sin(angle)],0).transpose()\n",
    "# Data is displayed \n",
    "# to display the data only it is assumed that the number of clusters is zero which is the default of the fuction \n",
    "display_cluster(X)"
   ]
  },
  {
   "cell_type": "markdown",
   "metadata": {},
   "source": [
    "> #### 2.3. Example 2 : Multi blob Data Gen and display "
   ]
  },
  {
   "cell_type": "code",
   "execution_count": null,
   "metadata": {
    "ExecuteTime": {
     "end_time": "2024-02-28T18:50:51.455958500Z",
     "start_time": "2024-02-28T18:50:51.337124600Z"
    }
   },
   "outputs": [],
   "source": [
    "n_samples = 1000\n",
    "n_bins = 4  \n",
    "centers = [(-3, -3), (0, 0), (3, 3), (6, 6), (9,9)]\n",
    "X, y = make_blobs(n_samples=n_samples, n_features=2, cluster_std=1.0,\n",
    "                  centers=centers, shuffle=False, random_state=42)\n",
    "display_cluster(X)"
   ]
  },
  {
   "cell_type": "markdown",
   "metadata": {},
   "source": [
    "#### 2.3. Example 3 : moons Data Gen and display "
   ]
  },
  {
   "cell_type": "code",
   "execution_count": null,
   "metadata": {
    "ExecuteTime": {
     "end_time": "2024-02-28T18:50:53.565477400Z",
     "start_time": "2024-02-28T18:50:53.449816400Z"
    }
   },
   "outputs": [],
   "source": [
    "n_samples = 1000\n",
    "X, y = noisy_moons = make_moons(n_samples=n_samples, noise= .1)\n",
    "display_cluster(X)"
   ]
  },
  {
   "cell_type": "markdown",
   "metadata": {},
   "source": [
    "## 3. Testing the GUC_Kmean function on Simple 2D\n",
    "1. Apply the GUC_Kmean fucntion to 2D Data provided by example 1, Example 2 and Example 3\n",
    "2. Try a varing number of cluster centriods that range from 2 to 10 clusters on each set \n",
    "3. Display your results.\n",
    "4. plot the Cluster perfromance Metric versus the number of clusters\n",
    "4. Change the distance function and repeat the above steps"
   ]
  },
  {
   "cell_type": "code",
   "execution_count": null,
   "metadata": {
    "ExecuteTime": {
     "end_time": "2024-02-28T20:50:19.286004800Z",
     "start_time": "2024-02-28T20:50:08.573045Z"
    },
    "collapsed": false,
    "jupyter": {
     "outputs_hidden": false
    }
   },
   "outputs": [],
   "source": [
    "#ex.1 - 'euclidean'\n",
    "plt.rcParams['figure.figsize'] = [8,8]\n",
    "sns.set_style(\"whitegrid\")\n",
    "sns.set_context(\"talk\")\n",
    "\n",
    "angle = np.linspace(0, 2 * np.pi, 20, endpoint=False)\n",
    "X = np.append([np.cos(angle)], [np.sin(angle)], 0).transpose()\n",
    "\n",
    "X= pd.DataFrame(X, columns=['X', 'Y'])\n",
    "\n",
    "cluster_metrics1 = []\n",
    "clusters_list1= []\n",
    "\n",
    "for k in range(2, 10):\n",
    "    Number_of_Clusters = k\n",
    "    Distance_Type= 'euclidean'\n",
    "    Final_Cluster_Distance, Cluster_Metric=GUC_Kmean(X, Number_of_Clusters, Distance_Type)\n",
    "    cluster_metrics1.append(Cluster_Metric)\n",
    "    clusters_list1.append(Number_of_Clusters)\n"
   ]
  },
  {
   "cell_type": "code",
   "execution_count": null,
   "metadata": {},
   "outputs": [],
   "source": [
    "# Plot the Cluster Performance Metric versus the Number of Clusters\n",
    "plt.plot(clusters_list1, cluster_metrics1, marker='o')\n",
    "plt.xlabel('Number of Clusters')\n",
    "plt.ylabel('Cluster Performance Metric')\n",
    "plt.title('Cluster Performance Metric vs. Number of Clusters')\n",
    "plt.grid(True)\n",
    "plt.show()"
   ]
  },
  {
   "cell_type": "code",
   "execution_count": null,
   "metadata": {},
   "outputs": [],
   "source": [
    "#ex.2 - 'euclidean'\n",
    "n_samples = 1000\n",
    "n_bins = 4\n",
    "centers = [(-3, -3), (0, 0), (3, 3), (6, 6), (9, 9)]\n",
    "X, y = make_blobs(n_samples=n_samples, n_features=2, cluster_std=1.0,\n",
    "                  centers=centers, shuffle=False, random_state=42)\n",
    "X = pd.DataFrame(X, columns=['X', 'Y'])\n",
    "\n",
    "clusters_list2 = []\n",
    "cluster_metrics2 = []\n",
    "\n",
    "for k in range(2,10):\n",
    "    Number_of_Clusters = k\n",
    "    Distance_Type = 'euclidean'\n",
    "    Final_Cluster_Distance, Cluster_Metric=GUC_Kmean(X, Number_of_Clusters,Distance_Type)\n",
    "    cluster_metrics2.append(Cluster_Metric)\n",
    "    clusters_list2.append(Number_of_Clusters)"
   ]
  },
  {
   "cell_type": "code",
   "execution_count": null,
   "metadata": {},
   "outputs": [],
   "source": [
    "# Plot the Cluster Performance Metric versus the Number of Clusters\n",
    "plt.plot(clusters_list2, cluster_metrics2, marker='o')\n",
    "plt.xlabel('Number of Clusters')\n",
    "plt.ylabel('Cluster Performance Metric')\n",
    "plt.title('Cluster Performance Metric vs. Number of Clusters')\n",
    "plt.grid(True)\n",
    "plt.show()"
   ]
  },
  {
   "cell_type": "code",
   "execution_count": null,
   "metadata": {},
   "outputs": [],
   "source": [
    "#ex.3 - 'euclidean'\n",
    "\n",
    "n_samples = 1000\n",
    "X, y = make_moons(n_samples=n_samples, noise=0.1)\n",
    "\n",
    "X = pd.DataFrame(X, columns=['X', 'Y'])\n",
    "\n",
    "clusters_list3 = []\n",
    "cluster_metrics3 = []\n",
    "\n",
    "for k in range(2,10):\n",
    "    Number_of_Clusters = k\n",
    "    Distance_Type = 'euclidean'\n",
    "    Final_Cluster_Distance, Cluster_Metric = GUC_Kmean(X, Number_of_Clusters, Distance_Type)\n",
    "\n",
    "    cluster_metrics3.append(Cluster_Metric)\n",
    "    clusters_list3.append(Number_of_Clusters)"
   ]
  },
  {
   "cell_type": "code",
   "execution_count": null,
   "metadata": {},
   "outputs": [],
   "source": [
    "# Plot the Cluster Performance Metric versus the Number of Clusters\n",
    "plt.plot(clusters_list3, cluster_metrics3, marker='o')\n",
    "plt.xlabel('Number of Clusters')\n",
    "plt.ylabel('Cluster Performance Metric')\n",
    "plt.title('Cluster Performance Metric vs. Number of Clusters')\n",
    "plt.grid(True)\n",
    "plt.show()"
   ]
  },
  {
   "cell_type": "code",
   "execution_count": null,
   "metadata": {},
   "outputs": [],
   "source": [
    "#ex.1 - 'pearson'\n",
    "\n",
    "plt.rcParams['figure.figsize'] = [8,8]\n",
    "sns.set_style(\"whitegrid\")\n",
    "sns.set_context(\"talk\")\n",
    "\n",
    "angle = np.linspace(0, 2 * np.pi, 20, endpoint=False)\n",
    "X = np.append([np.cos(angle)], [np.sin(angle)], 0).transpose()\n",
    "\n",
    "X= pd.DataFrame(X, columns=['X', 'Y'])\n",
    "\n",
    "cluster_metrics1 = []\n",
    "clusters_list1= []\n",
    "\n",
    "for k in range(2, 10):\n",
    "    Number_of_Clusters = k\n",
    "    Distance_Type= 'pearson'\n",
    "    Final_Cluster_Distance, Cluster_Metric=GUC_Kmean(X, Number_of_Clusters, Distance_Type)\n",
    "    cluster_metrics1.append(Cluster_Metric)\n",
    "    clusters_list1.append(Number_of_Clusters)"
   ]
  },
  {
   "cell_type": "code",
   "execution_count": null,
   "metadata": {},
   "outputs": [],
   "source": [
    "plt.plot(clusters_list1, cluster_metrics1, marker='o')\n",
    "plt.xlabel('Number of Clusters')\n",
    "plt.ylabel('Cluster Performance Metric')\n",
    "plt.title('Cluster Performance Metric vs. Number of Clusters')\n",
    "plt.grid(True)\n",
    "plt.show()"
   ]
  },
  {
   "cell_type": "code",
   "execution_count": null,
   "metadata": {
    "ExecuteTime": {
     "end_time": "2024-02-28T19:06:35.464876300Z",
     "start_time": "2024-02-28T19:06:26.518781500Z"
    },
    "collapsed": false,
    "jupyter": {
     "outputs_hidden": false
    }
   },
   "outputs": [],
   "source": [
    "#ex.2 - 'pearson'\n",
    "n_samples = 1000\n",
    "n_bins = 4\n",
    "centers = [(-3, -3), (0, 0), (3, 3), (6, 6), (9, 9)]\n",
    "X, y = make_blobs(n_samples=n_samples, n_features=2, cluster_std=1.0,\n",
    "                  centers=centers, shuffle=False, random_state=42)\n",
    "X = pd.DataFrame(X, columns=['X', 'Y'])\n",
    "\n",
    "clusters_list2 = []\n",
    "cluster_metrics2 = []\n",
    "\n",
    "for k in range(2,10):\n",
    "    Number_of_Clusters = k\n",
    "    Distance_Type = 'pearson'\n",
    "    Final_Cluster_Distance, Cluster_Metric=GUC_Kmean(X, Number_of_Clusters,Distance_Type)\n",
    "    cluster_metrics2.append(Cluster_Metric)\n",
    "    clusters_list2.append(Number_of_Clusters)"
   ]
  },
  {
   "cell_type": "code",
   "execution_count": null,
   "metadata": {
    "ExecuteTime": {
     "end_time": "2024-02-28T19:06:59.625425100Z",
     "start_time": "2024-02-28T19:06:59.406047100Z"
    },
    "collapsed": false,
    "jupyter": {
     "outputs_hidden": false
    }
   },
   "outputs": [],
   "source": [
    "# Plot the Cluster Performance Metric versus the Number of Clusters\n",
    "plt.plot(clusters_list2, cluster_metrics2, marker='o')\n",
    "plt.xlabel('Number of Clusters')\n",
    "plt.ylabel('Cluster Performance Metric')\n",
    "plt.title('Cluster Performance Metric vs. Number of Clusters')\n",
    "plt.grid(True)\n",
    "plt.show()"
   ]
  },
  {
   "cell_type": "code",
   "execution_count": null,
   "metadata": {
    "ExecuteTime": {
     "end_time": "2024-02-28T20:52:52.719987Z",
     "start_time": "2024-02-28T20:52:37.699769700Z"
    },
    "collapsed": false,
    "jupyter": {
     "outputs_hidden": false
    }
   },
   "outputs": [],
   "source": [
    "#ex.3 - 'pearson'\n",
    "\n",
    "n_samples = 1000\n",
    "X, y = make_moons(n_samples=n_samples, noise=0.1)\n",
    "\n",
    "X = pd.DataFrame(X, columns=['X', 'Y'])\n",
    "\n",
    "clusters_list3 = []\n",
    "cluster_metrics3 = []\n",
    "\n",
    "for k in range(2,10):\n",
    "    Number_of_Clusters = k\n",
    "    Distance_Type = 'pearson'\n",
    "    Final_Cluster_Distance, Cluster_Metric = GUC_Kmean(X, Number_of_Clusters, Distance_Type)\n",
    "\n",
    "    cluster_metrics3.append(Cluster_Metric)\n",
    "    clusters_list3.append(Number_of_Clusters)\n"
   ]
  },
  {
   "cell_type": "code",
   "execution_count": null,
   "metadata": {
    "ExecuteTime": {
     "end_time": "2024-02-28T20:53:11.630171100Z",
     "start_time": "2024-02-28T20:53:11.370853600Z"
    },
    "collapsed": false,
    "jupyter": {
     "outputs_hidden": false
    }
   },
   "outputs": [],
   "source": [
    "# Plot the Cluster Performance Metric versus the Number of Clusters\n",
    "plt.plot(clusters_list3, cluster_metrics3, marker='o')\n",
    "plt.xlabel('Number of Clusters')\n",
    "plt.ylabel('Cluster Performance Metric')\n",
    "plt.title('Cluster Performance Metric vs. Number of Clusters')\n",
    "plt.grid(True)\n",
    "plt.show()"
   ]
  },
  {
   "cell_type": "markdown",
   "metadata": {},
   "source": [
    "## 4. Using the GUC_Kmean function to segment customers int he provided customer dataset\n",
    "1. Apply the GUC_Kmean fucntion to customer data  \n",
    "2. Try a varing number of cluster that range from 2 to 10 cluster on each set \n",
    "3. Display your results.\n",
    "4. plot the Cluster Metric versus the number of clusters\n",
    "4. Change the distance function and repeat the above steps "
   ]
  },
  {
   "cell_type": "code",
   "execution_count": null,
   "metadata": {
    "ExecuteTime": {
     "end_time": "2024-02-27T21:13:02.003891700Z",
     "start_time": "2024-02-27T21:13:01.956287500Z"
    }
   },
   "outputs": [],
   "source": [
    "data = pd.read_csv('C:/Users/Adham/Desktop/Customer data.csv')"
   ]
  },
  {
   "cell_type": "code",
   "execution_count": null,
   "metadata": {
    "collapsed": false,
    "jupyter": {
     "outputs_hidden": false
    }
   },
   "outputs": [],
   "source": [
    "data.set_index('ID', inplace=True)"
   ]
  },
  {
   "cell_type": "code",
   "execution_count": null,
   "metadata": {
    "collapsed": false,
    "jupyter": {
     "outputs_hidden": false
    }
   },
   "outputs": [],
   "source": [
    "def Kmean_initialization(df, Number_of_Clusters):\n",
    "    initial_centroids= df.iloc[np.random.choice(len(df), size=Number_of_Clusters, replace=False)]\n",
    "    return initial_centroids"
   ]
  },
  {
   "cell_type": "code",
   "execution_count": null,
   "metadata": {
    "collapsed": false,
    "jupyter": {
     "outputs_hidden": false
    }
   },
   "outputs": [],
   "source": [
    "# 'euclidean'\n",
    "\n",
    "cluster_metrics_e= []\n",
    "clusters_list_e=[]\n",
    "\n",
    "for k in range (2,10):\n",
    "    Number_of_Clusters= k\n",
    "    Distance_Type= 'euclidean'\n",
    "    Cluster_Centroids= Kmean_initialization(data, Number_of_Clusters)\n",
    "    Final_Cluster_Distance, Cluster_Metric= GUC_Kmean(data, Number_of_Clusters, Distance_Type)\n",
    "    cluster_metrics_e.append(Cluster_Metric)\n",
    "    clusters_list_e.append(Number_of_Clusters)\n",
    "\n",
    "plt.plot(clusters_list_e, cluster_metrics_e, marker='o')\n",
    "plt.xlabel('Number of Clusters')\n",
    "plt.ylabel('Cluster Performance Metric')\n",
    "plt.title('Cluster Performance Metric vs. Number of Clusters')\n",
    "plt.grid(True)\n",
    "plt.show()"
   ]
  },
  {
   "cell_type": "code",
   "execution_count": null,
   "metadata": {
    "collapsed": false,
    "jupyter": {
     "outputs_hidden": false
    }
   },
   "outputs": [],
   "source": [
    "# 'pearson'\n",
    "\n",
    "cluster_metrics_p= []\n",
    "clusters_list_p=[]\n",
    "\n",
    "for k in range (2,10):\n",
    "    Number_of_Clusters= k\n",
    "    Distance_Type= 'pearson'\n",
    "    Cluster_Centroids= Kmean_initialization(data, Number_of_Clusters)\n",
    "    Final_Cluster_Distance, Cluster_Metric= GUC_Kmean(data, Number_of_Clusters, Distance_Type)\n",
    "    cluster_metrics_p.append(Cluster_Metric)\n",
    "    clusters_list_p.append(Number_of_Clusters)\n",
    "\n",
    "plt.plot(clusters_list_p, cluster_metrics_p, marker='o')\n",
    "plt.xlabel('Number of Clusters')\n",
    "plt.ylabel('Cluster Performance Metric')\n",
    "plt.title('Cluster Performance Metric vs. Number of Clusters')\n",
    "plt.grid(True)\n",
    "plt.show()"
   ]
  },
  {
   "cell_type": "code",
   "execution_count": null,
   "metadata": {
    "collapsed": false,
    "jupyter": {
     "outputs_hidden": false
    }
   },
   "outputs": [],
   "source": []
  }
 ],
 "metadata": {
  "kernelspec": {
   "display_name": "Python 3 (ipykernel)",
   "language": "python",
   "name": "python3"
  },
  "language_info": {
   "codemirror_mode": {
    "name": "ipython",
    "version": 3
   },
   "file_extension": ".py",
   "mimetype": "text/x-python",
   "name": "python",
   "nbconvert_exporter": "python",
   "pygments_lexer": "ipython3",
   "version": "3.12.1"
  }
 },
 "nbformat": 4,
 "nbformat_minor": 4
}
